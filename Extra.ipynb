{
 "cells": [
  {
   "cell_type": "code",
   "execution_count": null,
   "metadata": {},
   "outputs": [],
   "source": [
    "# Fibers\n",
    "# Define the columns you want to plot\n",
    "columns_to_plot = ['fiber']\n",
    "\n",
    "# Restaurants\n",
    "restaurants = df['restaurant'].unique()\n",
    "\n",
    "# Loop through each restaurant and create a separate plot for each\n",
    "for restaurant in restaurants:\n",
    "    plt.figure(figsize=(100, 100))\n",
    "    \n",
    "    restaurant_data = df[df['restaurant'] == restaurant]\n",
    "    \n",
    "    # Loop through each column and plot it for the current restaurant\n",
    "    for column in columns_to_plot:\n",
    "        plt.bar(restaurant_data['item'], restaurant_data[column], label = column, color = '#3399FF')\n",
    "    \n",
    "    plt.xlabel('Menu Item', fontsize = 50)\n",
    "    plt.ylabel('Value', fontsize = 50)\n",
    "    plt.title(f'{restaurant} - Fibers', fontsize = 50)\n",
    "    plt.xticks(rotation  = 90, fontsize = 50)\n",
    "    plt.yticks(fontsize = 50)\n",
    "    plt.legend(title= 'Category', loc = 'upper right', fontsize = 50)\n",
    "    plt.tight_layout()\n",
    "    plt.show()\n",
    "\n"
   ]
  },
  {
   "cell_type": "code",
   "execution_count": null,
   "metadata": {},
   "outputs": [],
   "source": [
    "# Protein\n",
    "# Define the columns you want to plot\n",
    "columns_to_plot = ['protein']\n",
    "\n",
    "# Restaurants\n",
    "restaurants = df['restaurant'].unique()\n",
    "\n",
    "# Loop through each restaurant and create a separate plot for each\n",
    "for restaurant in restaurants:\n",
    "    plt.figure(figsize=(100, 100))\n",
    "    \n",
    "    restaurant_data = df[df['restaurant'] == restaurant]\n",
    "    \n",
    "    # Loop through each column and plot it for the current restaurant\n",
    "    for column in columns_to_plot:\n",
    "        plt.bar(restaurant_data['item'], restaurant_data[column], label = column, color = '#FF0000')\n",
    "    \n",
    "    plt.xlabel('Menu Item', fontsize = 50)\n",
    "    plt.ylabel('Value', fontsize = 50)\n",
    "    plt.title(f'{restaurant} - Proteins', fontsize = 50)\n",
    "    plt.xticks(rotation  = 90, fontsize = 50)\n",
    "    plt.yticks(fontsize = 50)\n",
    "    plt.legend(title= 'Category', loc = 'upper right', fontsize = 50)\n",
    "    plt.tight_layout()\n",
    "    plt.show()"
   ]
  }
 ],
 "metadata": {
  "language_info": {
   "name": "python"
  },
  "orig_nbformat": 4
 },
 "nbformat": 4,
 "nbformat_minor": 2
}
